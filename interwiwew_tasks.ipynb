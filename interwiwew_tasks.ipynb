{
 "cells": [
  {
   "cell_type": "code",
   "execution_count": 14,
   "metadata": {},
   "outputs": [
    {
     "name": "stdout",
     "output_type": "stream",
     "text": [
      "((()))\n",
      "(()())\n",
      "(())()\n",
      "()(())\n",
      "()()()\n"
     ]
    }
   ],
   "source": [
    "#сгенерировать все правильные скобочные последовательности со скобками одного вида \"()\"\n",
    "\n",
    "def gener(mas,n,l,r):\n",
    "    if l==n and r==n:\n",
    "        print(mas)\n",
    "    else:\n",
    "        if l<n:\n",
    "            gener(mas+'(',n,l+1,r)\n",
    "        if r<l:\n",
    "            gener(mas+')',n,l,r+1)\n",
    "\n",
    "n=3 # количество открывающихся скобок\n",
    "gener('',n,0,0)"
   ]
  },
  {
   "cell_type": "code",
   "execution_count": 19,
   "metadata": {},
   "outputs": [
    {
     "name": "stdout",
     "output_type": "stream",
     "text": [
      "[[0], [1], [2], [3], [0, 1], [0, 2], [0, 3], [1, 2], [1, 3], [2, 3], [0, 1, 2], [0, 1, 3], [0, 2, 3], [1, 2, 3], [0, 1, 2, 3]]\n",
      "[0]\n",
      "[1]\n",
      "[2]\n",
      "[3]\n",
      "[0, 1]\n",
      "[0, 2]\n",
      "[0, 3]\n",
      "[1, 2]\n",
      "[1, 3]\n",
      "[2, 3]\n",
      "[0, 1, 2]\n",
      "[0, 1, 3]\n",
      "[0, 2, 3]\n",
      "[1, 2, 3]\n",
      "[0, 1, 2, 3]\n"
     ]
    }
   ],
   "source": [
    "#Дан упорядоченный по возрастанию массив с числами от 0 до n-1, требуется сгенерировать все его подмножества.\n",
    "#Заметим, что количество подмножеств такого множества равно в точности 2^n. \n",
    "import numpy as np\n",
    "import itertools\n",
    "\n",
    "n = 4\n",
    "a = [i for i in range(n)]# изначальный массив\n",
    "\n",
    "#Метод 1####################################################################################################\n",
    "line=[]\n",
    "for i in range(1,n+1):\n",
    "    line+=list(itertools.combinations(a,i))\n",
    "\n",
    "for i in range(len(line)):\n",
    "    line[i]=list(line[i])\n",
    "    \n",
    "print(line)\n",
    "\n",
    "#Метод 2####################################################################################################\n",
    "n = 4\n",
    "a = np.array(list(range(n)))\n",
    "\n",
    "def f(n, a, num, ind, k, sub):\n",
    "        # если уже k единиц есть, то печатем и выходим\n",
    "        if ind == k:\n",
    "            print (sub)\n",
    "        else:\n",
    "            for i in range(n - num):\n",
    "                # вызываем рекурсию, только если можем добрать до k единиц\n",
    "                if (n - num - i >= k - ind):\n",
    "                    # кладем в этот индекс элемент\n",
    "                    sub[ind] = a[num + i]\n",
    "                    # обратите внимание на аргументы\n",
    "                    f(n, a, num+1+i, ind+1, k, sub)\n",
    "\n",
    "for k in range(1,n+1):\n",
    "    ind = 0 # число, в котором лежит количество элементов массива\n",
    "    num = 0 # индекс, с которого начинается новый вызов функции\n",
    "    #k = 3\n",
    "    sub = [0 for i in range(k)] # подмножество\n",
    "    f(n,a,num,ind,k,sub)\n",
    "      "
   ]
  },
  {
   "cell_type": "code",
   "execution_count": 71,
   "metadata": {},
   "outputs": [
    {
     "name": "stdout",
     "output_type": "stream",
     "text": [
      "[(0, 1, 2), (0, 1, 3), (0, 1, 4), (0, 2, 3), (0, 2, 4), (0, 3, 4), (1, 2, 3), (1, 2, 4), (1, 3, 4), (2, 3, 4)]\n",
      "[0, 1]\n",
      "[0, 2]\n",
      "[1, 2]\n"
     ]
    }
   ],
   "source": [
    "#Дан упорядоченный по возрастанию массив с числами от 0 до n-1, требуется сгенерировать все его k-мерные подмножества.\n",
    "#Метод 1\n",
    "n=5# Кол-во элементов в массиве\n",
    "k=3#Кол-во элементов подмножества\n",
    "a=[i for i in range(n)]# массив\n",
    "line=[]\n",
    "line+=list(itertools.combinations(a,k))\n",
    "print(line)\n",
    "\n",
    "\n",
    "#Метод 2\n",
    "n=3# Кол-во элементов в массиве\n",
    "k=2#Кол-во элементов подмножества\n",
    "a=[i for i in range(n)]# массив\n",
    "\n",
    "subset=[0 for i in range(k)]# подмножество\n",
    "\n",
    "num=0 #Индекс с которого начинается новый вызов функции\n",
    "subset_n=0# Количнство элементов в текущем подмножестве\n",
    "\n",
    "def gener(n,k,a,subset,num,subset_n):\n",
    "    if subset_n==k:\n",
    "        print(subset)\n",
    "    else:\n",
    "        for i in range(n-num):#\n",
    "            # вызываем рекурсию, только если можем добрать до k единиц\n",
    "            if (n-num-i>=k-subset_n):\n",
    "                subset[subset_n]=a[num+i]\n",
    "                gener(n,k,a,subset,num+1+i,subset_n+1) \n",
    "                \n",
    "gener(n,k,a,subset,num,subset_n)   "
   ]
  },
  {
   "cell_type": "code",
   "execution_count": 3,
   "metadata": {},
   "outputs": [
    {
     "name": "stdout",
     "output_type": "stream",
     "text": [
      "[(1, 2, 3), (1, 3, 2), (2, 1, 3), (2, 3, 1), (3, 1, 2), (3, 2, 1)]\n",
      "[[1, 2, 3], [1, 3, 2], [2, 1, 3], [2, 3, 1], [3, 1, 2], [3, 2, 1]]\n"
     ]
    }
   ],
   "source": [
    "#Сгенерировать все перестановки строки\n",
    "#Метод 1\n",
    "import itertools\n",
    "print(list(itertools.permutations([1, 2, 3])))\n",
    "\n",
    "#Метод 2\n",
    "def perms(s):        \n",
    "    if(len(s)==1): return [s]\n",
    "    result=[]\n",
    "    for i,v in enumerate(s):\n",
    "        result += [[v]+p for p in perms(s[:i]+s[i+1:])]\n",
    "    return result\n",
    "\n",
    "print(perms([1,2,3]))"
   ]
  },
  {
   "cell_type": "code",
   "execution_count": 60,
   "metadata": {},
   "outputs": [
    {
     "name": "stdout",
     "output_type": "stream",
     "text": [
      "False\n"
     ]
    }
   ],
   "source": [
    "#Проверка правильности скобочной последрвательности\n",
    "import  sys\n",
    "\n",
    "#sequence=list(sys.stdin.readline().strip())\n",
    "sequence=[\"(\",\"[\",\"]\",\")\",\"[\"]\n",
    "\n",
    "def check(sequence):\n",
    "    steck = []\n",
    "    for i in range(len(sequence)):\n",
    "\n",
    "        if sequence[i]in (\"(\" ,\"[\"):\n",
    "            steck.append(sequence[i])\n",
    "        else:\n",
    "            if i==0:\n",
    "                return False\n",
    "            else:\n",
    "                if sequence[i]==\")\":\n",
    "                    if steck[len(steck)-1]==\"(\":\n",
    "                        steck.remove(steck[len(steck)-1])\n",
    "                    else:\n",
    "                        return False\n",
    "                elif sequence[i]==\"]\":\n",
    "                    if steck[len(steck)-1]==\"[\":\n",
    "                        steck.remove(steck[len(steck)-1])\n",
    "    if steck:\n",
    "        return False\n",
    "    else:\n",
    "        return True\n",
    "    \n",
    "right=check(sequence)\n",
    "print (right)"
   ]
  },
  {
   "cell_type": "code",
   "execution_count": 67,
   "metadata": {},
   "outputs": [
    {
     "name": "stdout",
     "output_type": "stream",
     "text": [
      "[(0, 1, 2), (0, 1, 3), (0, 1, 4), (0, 2, 3), (0, 2, 4), (0, 3, 4), (1, 2, 3), (1, 2, 4), (1, 3, 4), (2, 3, 4)]\n"
     ]
    }
   ],
   "source": []
  },
  {
   "cell_type": "code",
   "execution_count": 80,
   "metadata": {},
   "outputs": [
    {
     "name": "stdout",
     "output_type": "stream",
     "text": [
      "[0, 0, 0]\n",
      "[0, 0, 1]\n",
      "[0, 1, 0]\n",
      "[0, 1, 1]\n",
      "[1, 0, 0]\n",
      "[1, 0, 1]\n",
      "[1, 1, 0]\n",
      "[1, 1, 1]\n"
     ]
    }
   ],
   "source": [
    "#Перебор всех двоичных чисел длины n\n",
    "def f(n,mass,num):\n",
    "    if num== n:\n",
    "        print(mass)\n",
    "        return\n",
    "    mass[num] = 0\n",
    "    f(n,mass,num + 1)\n",
    "    mass[num] = 1\n",
    "    f(n,mass,num + 1)\n",
    "\n",
    "n=3\n",
    "mass=[0 for i in range(n)]\n",
    "f(n,mass,0)"
   ]
  },
  {
   "cell_type": "code",
   "execution_count": 30,
   "metadata": {},
   "outputs": [
    {
     "name": "stdout",
     "output_type": "stream",
     "text": [
      "[0, 0]\n",
      "[0, 1]\n",
      "[0, 3]\n",
      "[1, 0]\n",
      "[1, 1]\n",
      "[1, 3]\n",
      "[3, 0]\n",
      "[3, 1]\n",
      "[3, 3]\n"
     ]
    }
   ],
   "source": [
    "#Перестановки c повторениями\n",
    "def f(a,n,m,mass,num):\n",
    "    if num== m:\n",
    "        print(mass)\n",
    "        return\n",
    "    for i in range(n):\n",
    "        mass[num]=a[i]\n",
    "        f(a,n,m,mass,num + 1)\n",
    "\n",
    "m=2# Длина подмножества\n",
    "mass=[0 for i in range(m)]#массив для подмножеств\n",
    "a=[0,1,3]#Массив элементов множества\n",
    "n=3#Всего элементов в массиве\n",
    "f(a,n,m,mass,0)"
   ]
  },
  {
   "cell_type": "code",
   "execution_count": 1,
   "metadata": {},
   "outputs": [
    {
     "name": "stdout",
     "output_type": "stream",
     "text": [
      "[[0, 0, 0, 0], [0, 0, 0, 1], [0, 0, 1, 0], [0, 0, 1, 1], [0, 1, 0, 0], [0, 1, 0, 1], [0, 1, 1, 0], [0, 1, 1, 1], [1, 0, 0, 0], [1, 0, 0, 1], [1, 0, 1, 0], [1, 0, 1, 1], [1, 1, 0, 0], [1, 1, 0, 1], [1, 1, 1, 0], [1, 1, 1, 1]]\n"
     ]
    }
   ],
   "source": [
    "#Перестановки c повторениями\n",
    "import copy\n",
    "def f(a,n,m,mass,num,result):\n",
    "    if num== m:\n",
    "        #result+=copy.copy([mas])\n",
    "        result.append(copy.copy(mass))\n",
    "        #print(mass)\n",
    "        return\n",
    "    for i in range(n):\n",
    "        mass[num]=a[i]\n",
    "        f(a,n,m,mass,num + 1,result)\n",
    "    return result\n",
    "\n",
    "m=4# Длина подмножества\n",
    "mass=[0 for i in range(m)]#массив для подмножеств\n",
    "a=[0,1]#Массив элементов множества\n",
    "n=2#Всего элементов в массиве\n",
    "result=f(a,n,m,mass,0,[])\n",
    "print(result)"
   ]
  },
  {
   "cell_type": "code",
   "execution_count": null,
   "metadata": {},
   "outputs": [],
   "source": [
    "#Перестановки c поветорениями\n",
    "def f(a,n,m,mass,num):\n",
    "    if num== m:\n",
    "        print(mass)\n",
    "        return\n",
    "    for i in range(n):\n",
    "        mass[num]=a[i]\n",
    "        f(a,n,m,mass,num + 1)\n",
    "\n",
    "m=2# Длина подмножества\n",
    "mass=[0 for i in range(m)]#массив для подмножеств\n",
    "a=[0,1,3]#Массив элементов множества\n",
    "n=3#Всего элементов в массиве\n",
    "f(a,n,m,mass,0)"
   ]
  },
  {
   "cell_type": "code",
   "execution_count": null,
   "metadata": {},
   "outputs": [],
   "source": [
    "def gener(n,k,a,subset,num,subset_n):\n",
    "    if subset_n==k:\n",
    "        print(subset)\n",
    "    else:\n",
    "        for i in range(n-num):#\n",
    "            # вызываем рекурсию, только если можем добрать до k единиц\n",
    "            if (n-num-i>=k-subset_n):\n",
    "                subset[subset_n]=a[num+i]\n",
    "                gener(n,k,a,subset,num+1+i,subset_n+1) \n",
    "                \n",
    "gener(n,k,a,subset,num,subset_n)   "
   ]
  },
  {
   "cell_type": "markdown",
   "metadata": {},
   "source": [
    "# ЗАДАЧА 1\n",
    "Вычислите 2 в степени 179. Выведите на экран полученное значение"
   ]
  },
  {
   "cell_type": "code",
   "execution_count": 91,
   "metadata": {},
   "outputs": [
    {
     "name": "stdout",
     "output_type": "stream",
     "text": [
      "766247770432944429179173513575154591809369561091801088\n"
     ]
    }
   ],
   "source": [
    "print(2**179)"
   ]
  },
  {
   "cell_type": "markdown",
   "metadata": {},
   "source": [
    "# ЗАДАЧА 2\n",
    "Вычислите 20!. Выведите на экран вычисленное значение."
   ]
  },
  {
   "cell_type": "code",
   "execution_count": 93,
   "metadata": {},
   "outputs": [
    {
     "name": "stdout",
     "output_type": "stream",
     "text": [
      "2432902008176640000\n"
     ]
    }
   ],
   "source": [
    "n=1\n",
    "for i in range(2,21):\n",
    "    n*=i\n",
    "print(n)"
   ]
  },
  {
   "cell_type": "markdown",
   "metadata": {},
   "source": [
    "# Задача 3\n",
    "Вычислите длину гипотенузы в прямоугольном треугольнике со сторонами 179 и 971."
   ]
  },
  {
   "cell_type": "code",
   "execution_count": 98,
   "metadata": {},
   "outputs": [
    {
     "name": "stdout",
     "output_type": "stream",
     "text": [
      "987.361129475938\n"
     ]
    }
   ],
   "source": [
    "import math\n",
    "a=179\n",
    "b=971\n",
    "print(math.sqrt(a*a+b*b))"
   ]
  },
  {
   "cell_type": "markdown",
   "metadata": {},
   "source": [
    "# Задача 4\n",
    "Запишите букву 'A' (латинскую, заглавную) 100 раз подряд. Сдайте на проверку программу, которая выводит эту строчку (только буквы, без кавычек)."
   ]
  },
  {
   "cell_type": "code",
   "execution_count": 104,
   "metadata": {},
   "outputs": [
    {
     "name": "stdout",
     "output_type": "stream",
     "text": [
      "AAAAAAAAAAAAAAAAAAAAAAAAAAAAAAAAAAAAAAAAAAAAAAAAAAAAAAAAAAAAAAAAAAAAAAAAAAAAAAAAAAAAAAAAAAAAAAAAAAAA\n"
     ]
    }
   ],
   "source": [
    "print(100*\"A\")"
   ]
  },
  {
   "cell_type": "markdown",
   "metadata": {},
   "source": [
    "# Задача 5\n",
    "Даны два целых числа. Выведите значение наибольшего из них."
   ]
  },
  {
   "cell_type": "code",
   "execution_count": 105,
   "metadata": {},
   "outputs": [
    {
     "name": "stdout",
     "output_type": "stream",
     "text": [
      "1\n",
      "2\n",
      "2\n"
     ]
    }
   ],
   "source": [
    "a, b = int(input()), int(input())\n",
    "print(a if a >= b else b)"
   ]
  },
  {
   "cell_type": "markdown",
   "metadata": {},
   "source": [
    "# Задача 6\n",
    "Даны два целых числа. Программа должна вывести число 1, если первое число больше второго, число 2, если второе больше первого или число 0, если они равны."
   ]
  },
  {
   "cell_type": "code",
   "execution_count": 106,
   "metadata": {},
   "outputs": [
    {
     "name": "stdout",
     "output_type": "stream",
     "text": [
      "1\n",
      "2\n",
      "2\n"
     ]
    }
   ],
   "source": [
    "a, b = int(input()), int(input())\n",
    "if a>b:\n",
    "    print(1)\n",
    "elif a==b:\n",
    "    print(0)\n",
    "else:\n",
    "    print(2)"
   ]
  },
  {
   "cell_type": "markdown",
   "metadata": {},
   "source": [
    "# Задача 7\n",
    "Даны три целых числа. Найдите наибольшее из них (программа должна вывести ровно одно целое число). Какое наименьшее число операторов сравнения (>, <, >=, <=) необходимо для решения этой задачи?"
   ]
  },
  {
   "cell_type": "code",
   "execution_count": 3,
   "metadata": {},
   "outputs": [
    {
     "name": "stdout",
     "output_type": "stream",
     "text": [
      "1\n",
      "2\n",
      "5\n",
      "5\n",
      "5\n"
     ]
    }
   ],
   "source": [
    "a,b,c=int(input()),int(input()),int(input())\n",
    "print(max(a,b,c))\n",
    "\n",
    "if a>=b:\n",
    "    if a>=c:\n",
    "        print(a)\n",
    "    else:\n",
    "        print(c)\n",
    "else:\n",
    "    if b>=c:\n",
    "        print(b)\n",
    "    else:\n",
    "        print(c)"
   ]
  },
  {
   "cell_type": "markdown",
   "metadata": {},
   "source": [
    "# Задача 8\n",
    "Даны три натуральных числа a, b, c. Определите, существует ли треугольник с такими сторонами. Если треугольник существует, выведите строку YES, иначе выведите строку NO. Треугольник — это три точки, не лежащие на одной прямой."
   ]
  },
  {
   "cell_type": "code",
   "execution_count": 10,
   "metadata": {},
   "outputs": [
    {
     "name": "stdout",
     "output_type": "stream",
     "text": [
      "4\n",
      "4\n",
      "4\n",
      "YES\n",
      "Yes\n"
     ]
    }
   ],
   "source": [
    "# insert three integers separated by commas\n",
    "a,b,c=int(input()),int(input()),int(input())\n",
    "\n",
    "d = max(a, b, c)\n",
    "\n",
    "print(\"YES\" if a + b + c > 2 * d else \"NO\")\n",
    "\n",
    "if a < b + c and b < a + c and c < a + b:\n",
    "    print(\"Yes\")\n",
    "else:\n",
    "    print(\"NO\")"
   ]
  },
  {
   "cell_type": "markdown",
   "metadata": {},
   "source": [
    "# Задача 9\n",
    "Шахматная ладья ходит по горизонтали или вертикали. Даны две различные клетки шахматной доски, определите, может ли ладья попасть с первой клетки на вторую одним ходом."
   ]
  },
  {
   "cell_type": "code",
   "execution_count": 15,
   "metadata": {},
   "outputs": [
    {
     "name": "stdout",
     "output_type": "stream",
     "text": [
      "1,1,1,2\n",
      "YES\n"
     ]
    }
   ],
   "source": [
    "# insert four integers separated by commas\n",
    "x1, y1, x2, y2 = [int(i) for i in input().split(',')]\n",
    "\n",
    "print(\"YES\" if (x1 == x2 or y1 == y2) else \"NO\")"
   ]
  },
  {
   "cell_type": "markdown",
   "metadata": {},
   "source": [
    "# Задача 10\n",
    "Дано натуральное число. Требуется определить, является ли год с данным номером високосным. Если год является високосным, то выведите YES, иначе выведите NO. Напомним, что в соответствии с григорианским календарем, год является високосным, если его номер кратен 4, но не кратен 100, а также если он кратен 400."
   ]
  },
  {
   "cell_type": "code",
   "execution_count": 27,
   "metadata": {},
   "outputs": [
    {
     "name": "stdout",
     "output_type": "stream",
     "text": [
      "2004\n",
      "Yes\n",
      "4\n"
     ]
    }
   ],
   "source": [
    "year=int(input())\n",
    "print(\"Yes\" if not year%4 and year % 100 or not year%400 else \"No\")\n",
    "print(2004%400)"
   ]
  },
  {
   "cell_type": "markdown",
   "metadata": {},
   "source": [
    "# Задача N\n",
    "Шахматный конь ходит буквой “Г” — на две клетки по вертикали в любом направлении и на одну клетку по горизонтали, или наоборот. Даны две различные клетки шахматной доски, определите, может ли конь попасть с первой клетки на вторую одним ходом."
   ]
  },
  {
   "cell_type": "code",
   "execution_count": 28,
   "metadata": {},
   "outputs": [
    {
     "name": "stdout",
     "output_type": "stream",
     "text": [
      "2,2,4,5\n",
      "NO\n"
     ]
    }
   ],
   "source": [
    "row1, col1, row2, col2 = [int(i) for i in input().split(',')]\n",
    "\n",
    "horse_steps = [(-2, 1), (-1, 2), (1, 2), (2, 1),\n",
    "               (2, -1), (1, -2), (-1, -2), (-2, -1)]\n",
    "\n",
    "print(\"YES\" if (row2 - row1, col2 - col1) in horse_steps else \"NO\")"
   ]
  },
  {
   "cell_type": "code",
   "execution_count": null,
   "metadata": {},
   "outputs": [],
   "source": []
  }
 ],
 "metadata": {
  "kernelspec": {
   "display_name": "Python 3",
   "language": "python",
   "name": "python3"
  },
  "language_info": {
   "codemirror_mode": {
    "name": "ipython",
    "version": 3
   },
   "file_extension": ".py",
   "mimetype": "text/x-python",
   "name": "python",
   "nbconvert_exporter": "python",
   "pygments_lexer": "ipython3",
   "version": "3.6.8"
  }
 },
 "nbformat": 4,
 "nbformat_minor": 2
}

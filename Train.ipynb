{
 "cells": [
  {
   "cell_type": "code",
   "execution_count": 92,
   "metadata": {},
   "outputs": [
    {
     "name": "stdout",
     "output_type": "stream",
     "text": [
      "[[], [4], [3], [3, 4], [2], [2, 4], [2, 3], [2, 3, 4], [1], [1, 4], [1, 3], [1, 3, 4], [1, 2], [1, 2, 4], [1, 2, 3], [1, 2, 3, 4]]\n"
     ]
    }
   ],
   "source": [
    "#Перестановки c повторениями\n",
    "import copy\n",
    "def f(a,n,m,mass,num,result):\n",
    "    if num== m:\n",
    "        #result+=copy.copy([mas])\n",
    "        result.append(copy.copy(mass))\n",
    "        #print(mass)\n",
    "        return\n",
    "    for i in range(n):\n",
    "        mass[num]=a[i]\n",
    "        f(a,n,m,mass,num + 1,result)\n",
    "    return result\n",
    "\n",
    "m=4# Длина подмножества\n",
    "mass=[0 for i in range(m)]#массив для подмножеств\n",
    "a=[0,1]#Массив элементов множества\n",
    "n=2#Всего элементов в массиве\n",
    "result=f(a,n,m,mass,0,[])\n",
    "#print(result)\n",
    "\n",
    "#Генерация всех подмножеств множества\n",
    "set1=[1,2,3,4]\n",
    "subsets=f([0,1],2,len(set1),[0,0,0,0],0,[])\n",
    "\n",
    "subsets1=[]\n",
    "for i in range(len(subsets)):\n",
    "    sub=[]\n",
    "    for j in range(len(set1)):\n",
    "        if subsets[i][j]==1:\n",
    "            sub.append(set1[j])\n",
    "    subsets1.append(sub)    \n",
    "    \n",
    "print(subsets1)"
   ]
  },
  {
   "cell_type": "code",
   "execution_count": 98,
   "metadata": {},
   "outputs": [
    {
     "name": "stdout",
     "output_type": "stream",
     "text": [
      "((()))\n",
      "(()())\n",
      "(())()\n",
      "()(())\n",
      "()()()\n"
     ]
    }
   ],
   "source": [
    "#Генерация всех правильных скобочных последовательностей\n",
    "def gener(mas,l,r,n):\n",
    "    if len(mas)==n*2:\n",
    "        print(mas)\n",
    "    else:\n",
    "        if l<n:\n",
    "            gener(mas+\"(\",l+1,r,n)\n",
    "        if r<l:\n",
    "            gener(mas+\")\",l,r+1,n)\n",
    "            \n",
    "gener(\"\",0,0,3)    "
   ]
  },
  {
   "cell_type": "code",
   "execution_count": 103,
   "metadata": {},
   "outputs": [
    {
     "name": "stdout",
     "output_type": "stream",
     "text": [
      "[[1, 2, 3], [1, 3, 2], [2, 1, 3], [2, 3, 1], [3, 1, 2], [3, 2, 1]]\n"
     ]
    }
   ],
   "source": [
    "#Генерация всех переставновок массива\n",
    "def gener(mas):\n",
    "    if len(mas)==1:\n",
    "        return[mas]\n",
    "    result=[]\n",
    "    for i,v in enumerate(mas):\n",
    "        result+=[[v]+p for p in gener(mas[:i]+mas[i+1:])]\n",
    "    return result\n",
    "mas=[1,2,3]\n",
    "print(gener(mas))"
   ]
  },
  {
   "cell_type": "code",
   "execution_count": 106,
   "metadata": {},
   "outputs": [
    {
     "name": "stdout",
     "output_type": "stream",
     "text": [
      "[1, 2]\n",
      "[4]\n"
     ]
    }
   ],
   "source": [
    "mas=[1,2,3,4]\n",
    "print(mas[:2])\n",
    "print(mas[2+1:])\n"
   ]
  },
  {
   "cell_type": "code",
   "execution_count": null,
   "metadata": {},
   "outputs": [],
   "source": []
  }
 ],
 "metadata": {
  "kernelspec": {
   "display_name": "Python 3",
   "language": "python",
   "name": "python3"
  },
  "language_info": {
   "codemirror_mode": {
    "name": "ipython",
    "version": 3
   },
   "file_extension": ".py",
   "mimetype": "text/x-python",
   "name": "python",
   "nbconvert_exporter": "python",
   "pygments_lexer": "ipython3",
   "version": "3.6.8"
  }
 },
 "nbformat": 4,
 "nbformat_minor": 2
}

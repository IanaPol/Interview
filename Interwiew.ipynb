{
 "cells": [
  {
   "cell_type": "code",
   "execution_count": 4,
   "metadata": {},
   "outputs": [
    {
     "name": "stdout",
     "output_type": "stream",
     "text": [
      "0.3333333333333333\n",
      "0.3333333333333333333333333333\n",
      "{8, 1, 4, 7}\n",
      "24\n"
     ]
    }
   ],
   "source": [
    "#Типы данных в Python\n",
    "#Логический (True, False)\n",
    "bull=True\n",
    "#Integer\n",
    "n=1\n",
    "#Float С плавающей точкой\n",
    "n=1.0\n",
    "num=1.0/3.0\n",
    "print(num)\n",
    "#Decimal - как float только повышенной точности\n",
    "from decimal import Decimal\n",
    "num=Decimal(1)/Decimal(3)\n",
    "print(num)\n",
    "#Строки\n",
    "str=\"Yana\"\n",
    "#Списки- упорядоченные последовательности значений\n",
    "my_list=[1,2,3]\n",
    "#Кортежи упорядоченные изменяемые последовательности значений\n",
    "my_typle=(1,2)\n",
    "#Множества\n",
    "my_set=set([1,1,4,7,8])\n",
    "print(my_set)\n",
    "# Словари\n",
    "my_dict={\"name\":\"Yana\", \"age\": 24}\n",
    "print(my_dict[\"age\"])\n",
    "\n"
   ]
  },
  {
   "cell_type": "code",
   "execution_count": 7,
   "metadata": {},
   "outputs": [
    {
     "name": "stdout",
     "output_type": "stream",
     "text": [
      "Спец символы/nработают\n",
      "Спец символы /nне работают\n"
     ]
    }
   ],
   "source": [
    "#Сырые строки\n",
    "print('Спец символы/nработают')\n",
    "print(r'Спец символы /nне работают')"
   ]
  },
  {
   "cell_type": "code",
   "execution_count": 10,
   "metadata": {},
   "outputs": [
    {
     "name": "stdout",
     "output_type": "stream",
     "text": [
      "[4, 2, 3]\n"
     ]
    }
   ],
   "source": [
    "#В чем разница между tuple и list\n",
    "#tuple (кортеж)- неизменяемая коллекция данных list- изменяемая\n",
    "#Кортежи быстрее чем списки и стоит их использовать там, где есть рнабор элементов не требующий изменения\n",
    "a=[1,2,3]\n",
    "b=(1,2,3)\n",
    "#b[0]=4 Нельзя!\n",
    "a[0]=4\n",
    "print(a)"
   ]
  },
  {
   "cell_type": "code",
   "execution_count": 11,
   "metadata": {},
   "outputs": [
    {
     "name": "stdout",
     "output_type": "stream",
     "text": [
      "{1, 2, 5, 6, 9}\n"
     ]
    }
   ],
   "source": [
    "#Что такое Set\n",
    "#Мноество содержит неупорядоченные уникальные значения\n",
    "#Используем в том случае когда у нас есть массив данных которые должны быть уникальны. Если будут добавляться какие-то дубли \n",
    "#мы должны ыть уверены что они не будут в самой коллекции дублироваться\n",
    "my_set=set([1,2,1,1,5,6,9])\n",
    "print(my_set)"
   ]
  },
  {
   "cell_type": "code",
   "execution_count": 12,
   "metadata": {},
   "outputs": [],
   "source": [
    "#Стандартные библиотеки Python\n",
    "#json модуль позволяет кодировать и дкодировать данные в удобном формате\n",
    "#модуль datetime представляет классы для обработки времени и даты в удобном формате\n",
    "#модуль os представляет множество функций для работы с операционной системой\n",
    "#numpy - для работы с данными"
   ]
  },
  {
   "cell_type": "code",
   "execution_count": 13,
   "metadata": {},
   "outputs": [],
   "source": [
    "#Что такое pep8?\n",
    "# Стандарт которого стараются придерживаться разработчики на Python чтобы код был более понятным\n",
    "# удобно читаемым\n",
    "# Какой бы разработчик не писал код, если он соблюдает данный стандарт то этот код можно будет \n",
    "#легко прочитать любому разработчику"
   ]
  },
  {
   "cell_type": "code",
   "execution_count": 14,
   "metadata": {},
   "outputs": [
    {
     "name": "stdout",
     "output_type": "stream",
     "text": [
      "3 1\n"
     ]
    }
   ],
   "source": [
    "#Сделать swap двух переменных\n",
    "a=1\n",
    "b=3\n",
    "a,b=b,a\n",
    "print(a,b)"
   ]
  },
  {
   "cell_type": "code",
   "execution_count": 16,
   "metadata": {},
   "outputs": [],
   "source": [
    "# Разница range и xrange\n",
    "#range в 3 версии возвращает генератор\n",
    "# во второй версии range- возвращает list а xrange-возващает генератор"
   ]
  },
  {
   "cell_type": "code",
   "execution_count": 20,
   "metadata": {},
   "outputs": [
    {
     "name": "stdout",
     "output_type": "stream",
     "text": [
      "[1, 2, 4, 5]\n"
     ]
    }
   ],
   "source": [
    "#Удалить повторяющиеся элементы в list\n",
    "line=[1,1,2,4,5,5]\n",
    "print(list(set(line)))"
   ]
  },
  {
   "cell_type": "code",
   "execution_count": 52,
   "metadata": {},
   "outputs": [
    {
     "name": "stdout",
     "output_type": "stream",
     "text": [
      "['00', '00', '00', '000000000', '0']\n"
     ]
    }
   ],
   "source": [
    "#Разрезать по разделителю\n",
    "line=\"00100100100000000010\"\n",
    "line=line.split(\"1\")\n",
    "print(line)"
   ]
  },
  {
   "cell_type": "code",
   "execution_count": 56,
   "metadata": {},
   "outputs": [],
   "source": [
    "line=\"\".join(line)"
   ]
  },
  {
   "cell_type": "code",
   "execution_count": 57,
   "metadata": {},
   "outputs": [
    {
     "name": "stdout",
     "output_type": "stream",
     "text": [
      "0000000000000000\n"
     ]
    }
   ],
   "source": [
    "print(line)"
   ]
  },
  {
   "cell_type": "code",
   "execution_count": 27,
   "metadata": {},
   "outputs": [
    {
     "name": "stdout",
     "output_type": "stream",
     "text": [
      "1824764416 1824764512\n",
      "1949842539400\n",
      "1949842539400\n"
     ]
    }
   ],
   "source": [
    "#mutable and imutable types\n",
    "#Immutable\n",
    "#int\n",
    "\n",
    "#адреса\n",
    "# посмотреть адрес переменой\n",
    "a=10\n",
    "adressold=id(a)\n",
    "a=13\n",
    "adressnew=id(a)\n",
    "print(adressold,adressnew)\n",
    "\n",
    "#float\n",
    "#decimal\n",
    "#bool\n",
    "#string\n",
    "#tuple\n",
    "#range\n",
    "#bytes\n",
    "\n",
    "#Mutable\n",
    "#list\n",
    "lst=[1,2,3]\n",
    "print(id(lst))\n",
    "lst[0]=5\n",
    "print(id(lst))\n",
    "#dict\n",
    "#set\n",
    "#bytearray\n",
    "#user-defined classes"
   ]
  },
  {
   "cell_type": "code",
   "execution_count": 26,
   "metadata": {},
   "outputs": [
    {
     "name": "stdout",
     "output_type": "stream",
     "text": [
      "1824764416 1824764512\n"
     ]
    }
   ],
   "source": [
    "#адреса\n",
    "# посмотреть адрес переменой\n",
    "a=10\n",
    "adressold=id(a)\n",
    "a=13\n",
    "adressnew=id(a)\n",
    "print(adressold,adressnew)"
   ]
  },
  {
   "cell_type": "code",
   "execution_count": null,
   "metadata": {},
   "outputs": [],
   "source": [
    "#Как передаются элементы в функцию по ссылке и по значению\n",
    "#Он не по ссылке и не по значению не передается, т к в Python все объекты! Числа это объекты list это объекты и т д\n",
    "a=5# Если мы передаем это в функцию, там изменить не можем\n",
    "b=[1,2,3] # если же это, то мы спокойно можем изменить это внутри ф-ии"
   ]
  },
  {
   "cell_type": "code",
   "execution_count": null,
   "metadata": {},
   "outputs": [],
   "source": [
    "#Есть ли ошибка\n",
    "def is_none(arg):\n",
    "    if arg:\n",
    "        return False\n",
    "    return True\n",
    "print(is_none(None))\n",
    "print(is_none([]))\n",
    "print(is_none(\"\"))\n",
    "#Есть!!\n",
    "#Правильно:\n",
    "def is_none(arg):\n",
    "    if arg is not None: #!!!!!!!!!1\n",
    "        return False\n",
    "    return True\n",
    "print(is_none(None))\n",
    "print(is_none([]))\n",
    "print(is_none(\"\"))"
   ]
  },
  {
   "cell_type": "code",
   "execution_count": 31,
   "metadata": {},
   "outputs": [
    {
     "name": "stdout",
     "output_type": "stream",
     "text": [
      "True\n",
      "True\n"
     ]
    }
   ],
   "source": [
    "# для чего нужны @staticmethod и @classmethod, что они делают\n",
    "class A:\n",
    "    value=4\n",
    "    @staticmethod #Если перед методом есть это, то он будет работать print(A.b()) если вызывать его от класса а не от экземпляра\n",
    "    def b():\n",
    "        return True\n",
    "    \n",
    "a=A()\n",
    "print(A.b())\n",
    "print(a.b())"
   ]
  },
  {
   "cell_type": "code",
   "execution_count": 32,
   "metadata": {},
   "outputs": [
    {
     "name": "stdout",
     "output_type": "stream",
     "text": [
      "4\n",
      "4\n"
     ]
    }
   ],
   "source": [
    "# для чего нужны @staticmethod и @classmethod, что они делают\n",
    "class A:\n",
    "    value=4\n",
    "    @classmethod #Если перед методом есть это, то он будет работать print(A.b()) если вызывать его от класса а не от экземпляра\n",
    "    def b(cls):\n",
    "        return cls.value\n",
    "        #return self.value Такое не будет работать!\n",
    "    \n",
    "a=A()\n",
    "print(A.b())\n",
    "print(a.b())"
   ]
  },
  {
   "cell_type": "code",
   "execution_count": 38,
   "metadata": {},
   "outputs": [
    {
     "name": "stdout",
     "output_type": "stream",
     "text": [
      "[1, 2, 3, [5, 2, 3]] [1, 2, 3, [5, 2, 3]]\n",
      "[1, 2, 3, [1, 2, 3]] [1, 2, 3, [5, 2, 3]]\n"
     ]
    }
   ],
   "source": [
    "# Отличие copy и deepcopy\n",
    "x=[1,2,3]\n",
    "y=x #При таком присваивании y будет ссылаться на x!!!! и x будет меняться если менять y\n",
    "import copy\n",
    "y=copy.copy(x) # Создание нового объекта такого же как x только положили в другую ячейку памяти\n",
    "\n",
    "#Deepcopy\n",
    "x=[1,2,3,[1,2,3]]\n",
    "y=copy.copy(x)\n",
    "y[3][0]=5\n",
    "print(x,y)\n",
    "#Если например содержит X еще какой-то массив, то при изменении этого массива в y, он тоже будет меняться!!\n",
    "#В таком случае используют deepcopy! Для копирования объекта класса например!\n",
    "# Получается что в x хранится ссылка на входящий в него массив, и поэтому он тоже менятется.\n",
    "x=[1,2,3,[1,2,3]]\n",
    "y=copy.deepcopy(x)\n",
    "y[3][0]=5\n",
    "print(x,y)"
   ]
  },
  {
   "cell_type": "code",
   "execution_count": 47,
   "metadata": {},
   "outputs": [
    {
     "name": "stdout",
     "output_type": "stream",
     "text": [
      "<filter object at 0x000001C5FBBA26D8>\n",
      "[{'a': 7, 'b': 1}, {'a': 1, 'b': 4}, {'a': 1, 'b': 6}]\n"
     ]
    }
   ],
   "source": [
    "#lambda functions\n",
    "#Анонимные функци которые могут содержать лишь одно выражение, но выполняются они быстрее\n",
    "masslist=[1,2,3,5,109,120,5]\n",
    "masslist=filter(lambda a: a < 100, masslist)\n",
    "print(masslist)\n",
    "\n",
    "\n",
    "event_list=[{\"a\":1, \"b\": 6},{\"a\":1, \"b\":4},{\"a\":7, \"b\":1}]\n",
    "event_list.sort(key=lambda x: x['b'],)\n",
    "print(event_list)"
   ]
  },
  {
   "cell_type": "code",
   "execution_count": 49,
   "metadata": {},
   "outputs": [
    {
     "name": "stdout",
     "output_type": "stream",
     "text": [
      "True\n",
      "False\n"
     ]
    }
   ],
   "source": [
    "#Что делает метод id (Он получает адрес ячейки памяти)\n",
    "\n",
    "b=a=2\n",
    "print(id(a)==id(b))\n",
    "a=a+1\n",
    "print(id(a)==id(b))"
   ]
  },
  {
   "cell_type": "code",
   "execution_count": 50,
   "metadata": {},
   "outputs": [
    {
     "name": "stdout",
     "output_type": "stream",
     "text": [
      "4\n",
      "{'__module__': '__main__', '_a1': 4, '_A__a2': 5, '__dict__': <attribute '__dict__' of 'A' objects>, '__weakref__': <attribute '__weakref__' of 'A' objects>, '__doc__': None}\n"
     ]
    }
   ],
   "source": [
    "#Как в Python определить private атрибут или метод, можно ли вызвать его снаружи класса?\n",
    "#Есть такая договоренность, что нельзя из класса вызывать переменные(сервисные ф-ции) с нижним подчеркиванием вначале в названии\n",
    "class A:\n",
    "    _a1=4\n",
    "    __a2=5 # Нельзя вызывать ! Но можно к ней обратться так _A__a2 (в классе ее переименовало)\n",
    "    \n",
    "print(A._a1)\n",
    "print(A.__dict__) #Показывает все объекты класса!\n",
    "#print(A.__a2)\n",
    "    "
   ]
  },
  {
   "cell_type": "code",
   "execution_count": 1,
   "metadata": {},
   "outputs": [
    {
     "name": "stdout",
     "output_type": "stream",
     "text": [
      "[2]\n",
      "[1, 2, 3]\n",
      "[2, 4]\n"
     ]
    }
   ],
   "source": [
    "#Что напечатает\n",
    "def foo(x,a=[]):\n",
    "    a.append(x)\n",
    "    print(a)\n",
    "foo(2)\n",
    "foo(3,[1,2])\n",
    "foo(4)"
   ]
  },
  {
   "cell_type": "code",
   "execution_count": 3,
   "metadata": {},
   "outputs": [
    {
     "name": "stdout",
     "output_type": "stream",
     "text": [
      "2019-06-30 00:51:54.158206\n",
      "2019-06-30 00:51:54.158206\n",
      "2019-06-30 00:51:54.158206\n"
     ]
    }
   ],
   "source": [
    "#Что напечатает\n",
    "import datetime as dt\n",
    "def foo(time=dt.datetime.now()):\n",
    "    print(time)\n",
    "foo()\n",
    "foo()\n",
    "foo()"
   ]
  },
  {
   "cell_type": "code",
   "execution_count": 4,
   "metadata": {},
   "outputs": [
    {
     "name": "stdout",
     "output_type": "stream",
     "text": [
      "15\n"
     ]
    }
   ],
   "source": [
    "#Функция reduce принимает 2 аргумента: функцию и последовательность. \n",
    "#reduce() последовательно применяет функцию-аргумент к элементам списка, возвращает единичное значение\n",
    "from functools import reduce\n",
    "items = [1,2,3,4,5]\n",
    "sum_all = reduce(lambda x,y: x + y, items)\n",
    " \n",
    "print (sum_all)"
   ]
  },
  {
   "cell_type": "markdown",
   "metadata": {},
   "source": [
    "# BEST PRACTICE"
   ]
  },
  {
   "cell_type": "code",
   "execution_count": 2,
   "metadata": {},
   "outputs": [
    {
     "data": {
      "text/plain": [
       "[(1, 2, 3), (1, 3, 2), (2, 1, 3), (2, 3, 1), (3, 1, 2), (3, 2, 1)]"
      ]
     },
     "execution_count": 2,
     "metadata": {},
     "output_type": "execute_result"
    }
   ],
   "source": [
    "#Перестановки без повторений\n",
    "import itertools\n",
    "list(itertools.permutations([1, 2, 3]))"
   ]
  },
  {
   "cell_type": "code",
   "execution_count": 6,
   "metadata": {},
   "outputs": [
    {
     "name": "stdout",
     "output_type": "stream",
     "text": [
      "[1, 2, 3]\n",
      "[1, 3, 2]\n",
      "[2, 1, 3]\n",
      "[2, 3, 1]\n",
      "[3, 2, 1]\n",
      "[3, 1, 2]\n"
     ]
    }
   ],
   "source": [
    "#Перестановки без повторений\n",
    "def perm(a, k=0):\n",
    "    if k == len(a):\n",
    "        print (a)\n",
    "    else:\n",
    "        for i in range(k, len(a)):\n",
    "            a[k], a[i] = a[i] ,a[k]\n",
    "            perm(a, k+1)\n",
    "            a[k], a[i] = a[i], a[k]\n",
    "\n",
    "perm([1,2,3])"
   ]
  },
  {
   "cell_type": "code",
   "execution_count": 9,
   "metadata": {},
   "outputs": [
    {
     "data": {
      "text/plain": [
       "[(1, 1),\n",
       " (1, 2),\n",
       " (1, 3),\n",
       " (1, 4),\n",
       " (1, 5),\n",
       " (1, 6),\n",
       " (2, 1),\n",
       " (2, 2),\n",
       " (2, 3),\n",
       " (2, 4),\n",
       " (2, 5),\n",
       " (2, 6),\n",
       " (3, 1),\n",
       " (3, 2),\n",
       " (3, 3),\n",
       " (3, 4),\n",
       " (3, 5),\n",
       " (3, 6),\n",
       " (4, 1),\n",
       " (4, 2),\n",
       " (4, 3),\n",
       " (4, 4),\n",
       " (4, 5),\n",
       " (4, 6),\n",
       " (5, 1),\n",
       " (5, 2),\n",
       " (5, 3),\n",
       " (5, 4),\n",
       " (5, 5),\n",
       " (5, 6),\n",
       " (6, 1),\n",
       " (6, 2),\n",
       " (6, 3),\n",
       " (6, 4),\n",
       " (6, 5),\n",
       " (6, 6)]"
      ]
     },
     "execution_count": 9,
     "metadata": {},
     "output_type": "execute_result"
    }
   ],
   "source": [
    "#Перестановки с повторениями\n",
    "import itertools\n",
    "x = [1, 2, 3, 4, 5, 6]\n",
    "[p for p in itertools.product(x, repeat=2)]"
   ]
  },
  {
   "cell_type": "code",
   "execution_count": 13,
   "metadata": {},
   "outputs": [
    {
     "data": {
      "text/plain": [
       "(3, 5)"
      ]
     },
     "execution_count": 13,
     "metadata": {},
     "output_type": "execute_result"
    }
   ],
   "source": [
    "#Генерация случайной перестановки (с повторениями)\n",
    "import itertools\n",
    "import random\n",
    "x = [1, 2, 3, 4, 5, 6]\n",
    "[p for p in itertools.product(x, repeat=2)]\n",
    "random.choice([p for p in itertools.product(x, repeat=2)])"
   ]
  },
  {
   "cell_type": "code",
   "execution_count": 18,
   "metadata": {},
   "outputs": [
    {
     "name": "stdout",
     "output_type": "stream",
     "text": [
      "[]\n"
     ]
    }
   ],
   "source": [
    "#Удалить все числа из массива\n",
    "my_list=[1,2,3]\n",
    "del my_list[:]\n",
    "print(my_list)"
   ]
  },
  {
   "cell_type": "code",
   "execution_count": 21,
   "metadata": {},
   "outputs": [
    {
     "name": "stdout",
     "output_type": "stream",
     "text": [
      "[4, 5, 6] [4, 5, 6] [4, 5, 6]\n",
      "False\n",
      "False\n"
     ]
    }
   ],
   "source": [
    "#Создать копию листа\n",
    "import copy\n",
    "my_list=[4,5,6]\n",
    "new_list=copy.copy(my_list)\n",
    "new_list1=my_list[:]\n",
    "print(my_list,new_list,new_list1)\n",
    "print(my_list is new_list)\n",
    "print(my_list is new_list1)\n"
   ]
  },
  {
   "cell_type": "code",
   "execution_count": 23,
   "metadata": {},
   "outputs": [
    {
     "name": "stdout",
     "output_type": "stream",
     "text": [
      "12\n"
     ]
    }
   ],
   "source": [
    "#Анотация типов в Python 3.5\n",
    "def my_pow (a:int,b:int )->int:\n",
    "    return a*b\n",
    "print(my_pow(3,4))"
   ]
  },
  {
   "cell_type": "code",
   "execution_count": 24,
   "metadata": {},
   "outputs": [
    {
     "name": "stdout",
     "output_type": "stream",
     "text": [
      "{'a': 1, 'b': 2, 'c': 3, 'd': 4}\n"
     ]
    }
   ],
   "source": [
    "#Объединение двух dictionary в Python 3.5\n",
    "one={\"a\":1,\"b\":2}\n",
    "two={\"c\":3,\"d\":4}\n",
    "res={**one,**two}\n",
    "print(res)"
   ]
  },
  {
   "cell_type": "code",
   "execution_count": 26,
   "metadata": {},
   "outputs": [
    {
     "name": "stdout",
     "output_type": "stream",
     "text": [
      "{'a': 1, 'b': 3, 'c': 4}\n"
     ]
    }
   ],
   "source": [
    "#Объединение двух dictionary в Python 3.5\n",
    "one={\"a\":1,\"b\":2}\n",
    "two={\"b\":3,\"c\":4}\n",
    "res={**one,**two}\n",
    "print(res)"
   ]
  },
  {
   "cell_type": "code",
   "execution_count": null,
   "metadata": {},
   "outputs": [],
   "source": [
    "# is и ==\n",
    "# is сравнивает адреса ячейки памяти \n",
    "# Оператор == сравнивает значения"
   ]
  },
  {
   "cell_type": "code",
   "execution_count": 27,
   "metadata": {},
   "outputs": [
    {
     "name": "stdout",
     "output_type": "stream",
     "text": [
      "The Zen of Python, by Tim Peters\n",
      "\n",
      "Beautiful is better than ugly.\n",
      "Explicit is better than implicit.\n",
      "Simple is better than complex.\n",
      "Complex is better than complicated.\n",
      "Flat is better than nested.\n",
      "Sparse is better than dense.\n",
      "Readability counts.\n",
      "Special cases aren't special enough to break the rules.\n",
      "Although practicality beats purity.\n",
      "Errors should never pass silently.\n",
      "Unless explicitly silenced.\n",
      "In the face of ambiguity, refuse the temptation to guess.\n",
      "There should be one-- and preferably only one --obvious way to do it.\n",
      "Although that way may not be obvious at first unless you're Dutch.\n",
      "Now is better than never.\n",
      "Although never is often better than *right* now.\n",
      "If the implementation is hard to explain, it's a bad idea.\n",
      "If the implementation is easy to explain, it may be a good idea.\n",
      "Namespaces are one honking great idea -- let's do more of those!\n"
     ]
    }
   ],
   "source": [
    "#Набор правил python\n",
    "import this"
   ]
  },
  {
   "cell_type": "code",
   "execution_count": 31,
   "metadata": {},
   "outputs": [
    {
     "data": {
      "text/plain": [
       "[0, 4, 16, 36, 64]"
      ]
     },
     "execution_count": 31,
     "metadata": {},
     "output_type": "execute_result"
    }
   ],
   "source": [
    "#Генераторы списков (Списковые включения)\n",
    "#if not x%2 потому что если делить четное число, то остатка не остается! А если нечетное то будет какое-то число то есть не not\n",
    "a=[x*x for x in range(10) if not x%2 ]\n",
    "a"
   ]
  },
  {
   "cell_type": "code",
   "execution_count": 45,
   "metadata": {},
   "outputs": [
    {
     "name": "stdout",
     "output_type": "stream",
     "text": [
      "<function my_func at 0x000001FA7E3B0BF8>\n",
      "5\n",
      "9\n",
      "3\n"
     ]
    }
   ],
   "source": [
    "#Функциии Python можно передавать как значения в другие функции\n",
    "def my_func(a,b):\n",
    "    return a+b\n",
    "def my_func1(a,b):\n",
    "    return a-b\n",
    "funcs=[my_func,my_func1]\n",
    "print(funcs[0])\n",
    "print(funcs[0](2,3))\n",
    "print(funcs[0](6,3))\n",
    "print(funcs[1](6,3))"
   ]
  },
  {
   "cell_type": "code",
   "execution_count": 74,
   "metadata": {},
   "outputs": [
    {
     "name": "stdout",
     "output_type": "stream",
     "text": [
      "{'a': 1, 'c': 3, 'b': 2}\n",
      "{\n",
      "    \"a\": 1,\n",
      "    \"b\": 2,\n",
      "    \"c\": 3\n",
      "}\n"
     ]
    }
   ],
   "source": [
    "#Стандартый метод repr у словаря сложно читаем\n",
    "my_mapping={\"a\":1,\"c\":3,\"b\":2}\n",
    "print(my_mapping)\n",
    "\n",
    "\n",
    "#Можем сделать другой вывод используя json\n",
    "import json\n",
    "print(json.dumps(my_mapping,indent=4,sort_keys=True))"
   ]
  },
  {
   "cell_type": "code",
   "execution_count": 70,
   "metadata": {},
   "outputs": [
    {
     "name": "stdout",
     "output_type": "stream",
     "text": [
      "123\n"
     ]
    }
   ],
   "source": [
    "#Объединение всех чисел массива в строку\n",
    "a=[1,2,3]\n",
    "a=''.join(map(str,a))\n",
    "print(a)"
   ]
  },
  {
   "cell_type": "code",
   "execution_count": 79,
   "metadata": {},
   "outputs": [
    {
     "name": "stdout",
     "output_type": "stream",
     "text": [
      "[4, 5, 6]\n",
      "<generator object <genexpr> at 0x000001FA7E3A7B48>\n",
      "<generator object generator at 0x000001FA7E3A7D00>\n"
     ]
    }
   ],
   "source": [
    "#Итераторы\n",
    "#Всё, к чему можно применить конструкцию «for… in...», является итерируемым объектом: списки, строки, файлы… \n",
    "#однако все значения хранятся в памяти, а это не всегда желательно, если у вас много значений.\n",
    "mylist = [x*x for x in range(3)]\n",
    "print(my_list)\n",
    "\n",
    "#Генераторы\n",
    "#Генераторы это тоже итерируемые объекты, но прочитать их можно лишь один раз. \n",
    "mygenerator = (x*x for x in range(3))\n",
    "print(mygenerator)\n",
    "\n",
    "#Yield\n",
    "#Yield это ключевое слово, которое используется примерно как return — отличие в том, что функция вернёт генератор.\n",
    "def generator():\n",
    "    for i in (1, 2, 3):\n",
    "        yield i\n",
    "\n",
    "g = generator() # create a generator\n",
    "     \n",
    "print(g)\n"
   ]
  },
  {
   "cell_type": "code",
   "execution_count": null,
   "metadata": {},
   "outputs": [],
   "source": [
    "#Модуль threading использует потоки, модуль multiprocessing\n",
    "#Использует процессы. Разница в том, что потоки выполняются в одном и том же пространстве памяти, тогда как процессы \n",
    "#имеют отдельную память. \n"
   ]
  },
  {
   "cell_type": "code",
   "execution_count": 25,
   "metadata": {},
   "outputs": [
    {
     "name": "stdout",
     "output_type": "stream",
     "text": [
      "[1, 2, 4, 5]\n",
      "[1, 2, 4, 5]\n"
     ]
    }
   ],
   "source": [
    "#Удалить все вхождения элемента из списка\n",
    "\n",
    "#Cпособ 1\n",
    "x=[1,2,3,4,3,5]\n",
    "x=list(filter(lambda a:a!=3,x))\n",
    "print(x)\n",
    "\n",
    "#Способ 2\n",
    "x=[1,2,3,4,3,5]\n",
    "while 3 in x: x.remove(3)\n",
    "print(x)"
   ]
  },
  {
   "cell_type": "code",
   "execution_count": 31,
   "metadata": {},
   "outputs": [
    {
     "name": "stdout",
     "output_type": "stream",
     "text": [
      "[2, 4]\n"
     ]
    }
   ],
   "source": [
    "#Найти все индексы вхождения элемента в список\n",
    "my_list=[1,2,3,4,3,5]\n",
    "indices = [i for i, x in enumerate(my_list) if x == 3]\n",
    "print(indices)"
   ]
  },
  {
   "cell_type": "code",
   "execution_count": 37,
   "metadata": {},
   "outputs": [
    {
     "data": {
      "text/plain": [
       "[16, 9, 8, 4, 2, 2, 1, 1]"
      ]
     },
     "execution_count": 37,
     "metadata": {},
     "output_type": "execute_result"
    }
   ],
   "source": [
    "#Сортировка по убыванию\n",
    "my_list=[2,4,8,1,2,9,16,1]\n",
    "#my_list=sorted(my_list,reverse=True)\n",
    "my_list.sort(reverse=True)"
   ]
  },
  {
   "cell_type": "code",
   "execution_count": null,
   "metadata": {},
   "outputs": [],
   "source": []
  }
 ],
 "metadata": {
  "kernelspec": {
   "display_name": "Python 3",
   "language": "python",
   "name": "python3"
  },
  "language_info": {
   "codemirror_mode": {
    "name": "ipython",
    "version": 3
   },
   "file_extension": ".py",
   "mimetype": "text/x-python",
   "name": "python",
   "nbconvert_exporter": "python",
   "pygments_lexer": "ipython3",
   "version": "3.6.8"
  }
 },
 "nbformat": 4,
 "nbformat_minor": 2
}

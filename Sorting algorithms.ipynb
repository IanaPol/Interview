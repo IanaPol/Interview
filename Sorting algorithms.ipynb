{
 "cells": [
  {
   "cell_type": "markdown",
   "metadata": {},
   "source": [
    "# Сортировка выбором\n",
    "\n",
    "Алгоритм состоит из следующих шагов:\n",
    "\n",
    "1. найти наименьший элемент в массиве\n",
    "2. поменять местами его и первый элемент в массиве\n",
    "3. найти следующий наименьший элемент в массиве и поменять местами его и второй элемент массива\n",
    "4. продолжать это пока весь массив не будет отсортирован\n",
    "\n",
    "Затраты времени на сортировку выборкой в среднем составляют O(n²), где n — количество элементов списка."
   ]
  },
  {
   "cell_type": "code",
   "execution_count": 24,
   "metadata": {},
   "outputs": [
    {
     "name": "stdout",
     "output_type": "stream",
     "text": [
      "[0, 1, 2, 2, 3, 3, 4, 5, 5, 24, 34, 43]\n"
     ]
    }
   ],
   "source": [
    "import copy\n",
    "def selection_sort(mas):\n",
    "    \n",
    "    mas_copy=copy.copy(mas)\n",
    "    for i in range(len(mas_copy)):\n",
    "        index_min=i\n",
    "        for j in range(i+1,len(mas_copy)):\n",
    "            if mas_copy[j]<mas_copy[index_min]:\n",
    "                index_min=j\n",
    "        mas_copy[i],mas_copy[index_min]=mas_copy[index_min],mas_copy[i]\n",
    "    return mas_copy\n",
    "        \n",
    "mas = [0,3,5,1,2,3,5,4,2,34,43,24]\n",
    "print (selection_sort(mas))"
   ]
  },
  {
   "cell_type": "markdown",
   "metadata": {},
   "source": [
    "# Сортировка вставками\n",
    "\n",
    "1. из массива последовательно берется каждый элемент\n",
    "2. вставляется в его отсортированную часть(например в начале массива)\n",
    "\n",
    "Время сортировки вставками в среднем равно O(n²), где n — количество элементов списка."
   ]
  },
  {
   "cell_type": "code",
   "execution_count": 25,
   "metadata": {},
   "outputs": [
    {
     "name": "stdout",
     "output_type": "stream",
     "text": [
      "[0, 1, 2, 2, 3, 3, 4, 5, 5, 25, 34, 43]\n"
     ]
    }
   ],
   "source": [
    "import copy\n",
    "def insertion_sort(mas):\n",
    "    mas_copy=copy.copy(mas)\n",
    "    for i in range(1,len(mas_copy)):\n",
    "        v=mas_copy[i]\n",
    "        j=i-1\n",
    "        while j>=0 and mas_copy[j]>v:\n",
    "            mas_copy[j+1]=mas_copy[j]\n",
    "            j-=1\n",
    "        mas_copy[j+1]=v\n",
    "    return mas_copy\n",
    "        \n",
    "mas = [0,3,5,1,2,3,5,4,2,34,43,25]\n",
    "print (insertion_sort(mas))"
   ]
  },
  {
   "cell_type": "markdown",
   "metadata": {},
   "source": [
    "# Сортировка “Методом Пузырька”\n",
    "Еще один элементарный алгоритм. Заключается он в том, что последовательно сравниваются пары элементов в массиве и в случае несоответствия выбранному порядку меняются местами. Это продолжается до тех пор пока не нужно будет делать никаких перестановок.\n",
    "\n",
    "Если взять самый худший случай (изначально список отсортирован по убыванию), затраты времени будут равны O(n²), где n — количество элементов списка."
   ]
  },
  {
   "cell_type": "code",
   "execution_count": 29,
   "metadata": {},
   "outputs": [
    {
     "name": "stdout",
     "output_type": "stream",
     "text": [
      "[0, 1, 2, 2, 3, 3, 4, 5, 5, 25, 34, 43]\n"
     ]
    }
   ],
   "source": [
    "import copy\n",
    "def bubble_sort(mas):\n",
    "    mas_copy=copy.copy(mas)\n",
    "    for i in range(len(mas_copy),0,-1):\n",
    "        for j in range(1,i):\n",
    "            if mas_copy[j-1]>mas_copy[j]:\n",
    "                mas_copy[j-1],mas_copy[j]=mas_copy[j],mas_copy[j-1]\n",
    "    return mas_copy\n",
    "        \n",
    "mas = [0,3,5,1,2,3,5,4,2,34,43,25]\n",
    "print (bubble_sort(mas))"
   ]
  },
  {
   "cell_type": "code",
   "execution_count": 32,
   "metadata": {},
   "outputs": [
    {
     "name": "stdout",
     "output_type": "stream",
     "text": [
      "4\n",
      "After increments of size 4 The list is [20, 26, 44, 17, 54, 31, 93, 55, 77]\n",
      "After increments of size 2 The list is [20, 17, 44, 26, 54, 31, 77, 55, 93]\n",
      "After increments of size 1 The list is [17, 20, 26, 31, 44, 54, 55, 77, 93]\n",
      "[17, 20, 26, 31, 44, 54, 55, 77, 93]\n"
     ]
    }
   ],
   "source": [
    "def shellSort(alist):\n",
    "    sublistcount = len(alist)//2\n",
    "    while sublistcount > 0:\n",
    "\n",
    "      for startposition in range(sublistcount):\n",
    "        gapInsertionSort(alist,startposition,sublistcount)\n",
    "\n",
    "      print(\"After increments of size\",sublistcount,\n",
    "                                   \"The list is\",alist)\n",
    "      sublistcount = sublistcount // 2\n",
    "\n",
    "def gapInsertionSort(alist,start,gap):\n",
    "    for i in range(start+gap,len(alist),gap):\n",
    "\n",
    "        currentvalue = alist[i]\n",
    "        position = i\n",
    "\n",
    "        while position>=gap and alist[position-gap]>currentvalue:\n",
    "            alist[position]=alist[position-gap]\n",
    "            position = position-gap\n",
    "\n",
    "        alist[position]=currentvalue\n",
    "\n",
    "alist = [54,26,93,17,77,31,44,55,20]\n",
    "shellSort(alist)\n",
    "print(alist)"
   ]
  },
  {
   "cell_type": "markdown",
   "metadata": {},
   "source": [
    "# Сортировка Шелла\n",
    "Идея метода заключается в сравнение разделенных на группы элементов последовательности, находящихся друг от друга на некотором расстоянии. Изначально это расстояние равно d или N/2, где N — общее число элементов. На первом шаге каждая группа включает в себя два элемента расположенных друг от друга на расстоянии N/2; они сравниваются между собой, и, в случае необходимости, меняются местами. На последующих шагах также происходят проверка и обмен, но расстояние d сокращается на d/2, и количество групп, соответственно, уменьшается. Постепенно расстояние между элементами уменьшается, и на d=1 проход по массиву происходит в последний раз."
   ]
  },
  {
   "cell_type": "code",
   "execution_count": 35,
   "metadata": {},
   "outputs": [
    {
     "name": "stdout",
     "output_type": "stream",
     "text": [
      "[0, 1, 2, 2, 3, 3, 4, 5, 5, 25, 34, 43]\n"
     ]
    }
   ],
   "source": [
    "import copy\n",
    "def Shells_sort(mas):\n",
    "    mas_copy=copy.copy(mas)\n",
    "    sublist_count=len(mas_copy)//2\n",
    "    while sublist_count>0:\n",
    "        for startposition in range(sublist_count):\n",
    "            Parts_sort(mas_copy,startposition,sublist_count)\n",
    "        sublist_count=sublist_count//2\n",
    "\n",
    "    return mas_copy\n",
    "\n",
    "def Parts_sort(mas_copy,start,sublist_count):\n",
    "    for i in range(start+sublist_count,len(mas_copy),sublist_count):\n",
    "        current_value=mas_copy[i]\n",
    "        position=i\n",
    "        while position>=sublist_count and mas_copy[position-sublist_count]>current_value:\n",
    "            mas_copy[position]=mas_copy[position-sublist_count]\n",
    "            position = position-sublist_count\n",
    "        mas_copy[position]=current_value\n",
    "        \n",
    "mas = [0,3,5,1,2,3,5,4,2,34,43,25]\n",
    "print (Shells_sort(mas))"
   ]
  },
  {
   "cell_type": "code",
   "execution_count": null,
   "metadata": {},
   "outputs": [],
   "source": []
  }
 ],
 "metadata": {
  "kernelspec": {
   "display_name": "Python 3",
   "language": "python",
   "name": "python3"
  },
  "language_info": {
   "codemirror_mode": {
    "name": "ipython",
    "version": 3
   },
   "file_extension": ".py",
   "mimetype": "text/x-python",
   "name": "python",
   "nbconvert_exporter": "python",
   "pygments_lexer": "ipython3",
   "version": "3.6.8"
  }
 },
 "nbformat": 4,
 "nbformat_minor": 2
}
